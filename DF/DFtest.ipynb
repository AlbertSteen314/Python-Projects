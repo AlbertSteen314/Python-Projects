{
 "cells": [
  {
   "cell_type": "markdown",
   "metadata": {},
   "source": [
    "# Simulating Dickey-Fuller Distribution\n",
    "## by Ezra van der Stelt\n",
    "\n",
    "The code in this Jupyter notebook was written using Python 3.7.4. This Jupyter notebook file DFdistribution.ipynb and the results of this simulation study is stored in the public GitHub repository https://github.com/AlbertSteen314/Python-Projects/tree/master/DF.\n",
    "\n",
    "The goal of this project is to learn more about the theory of unit root econometrics and learn how to conduct a simulation study. In particular I focus on the theory of the dickey-fuller (DF) test of unit roots in an autoregressive model. I derive an approximation of the asymptotic null distribution, critical values for testing, and replicate the power comparisons experiment as is done in the original paper (Dickey & Fuller, 1979).\n",
    "\n",
    "## Dickey (1976), Dickey & Fuller (1979) papers\n",
    "\n",
    "For this project I only consider the first order autoregressive data generating model (AR) without deterministic trends \n",
    "\n",
    "$$Y_t = \\rho Y_{t-1}+\\varepsilon_t, t=1,2,..., \\tag{1}$$ \n",
    "\n",
    "with $Y_0=0$ and i.i.d zero mean constant variance $(\\sigma)$ error ${\\varepsilon_t}\\sim \\mathcal{N}(0,\\sigma)$. For $|\\rho|<1$ the series is known to be stationary, whereas, for $\\rho \\geqslant 1$ the series is non-stationary and has no defined first and second (unconditional) moments. When $Y_t$ is a random walk, typical inference is not possible, since standard OLS assumptions are violated. The ML and OLS estimator \n",
    "\n",
    "$$\\hat{\\rho} = (Y_{t-1}'Y_{t-1})^{-1}(Y_{t-1}'Y_t) \\tag{2}$$ \n",
    "\n",
    "will not be student-t distributed like in the stationary case. Many variables are non-stationary so determining whether $\\rho=1$ is of interest, to test this the limiting distribution of the test statistic \n",
    "\n",
    "$$\\hat{\\tau}=(\\hat{\\rho} -1)[((n-k-1)^{-1}S_{\\varepsilon}^2)(Y_{t-1}'Y_{t-1})]^{1/2} \\tag{3}$$ \n",
    "\n",
    "is evaluated. Dickey (1976) derived an approximation of the limiting distribution of $\\hat{\\tau}$ for different sample sizes $n$. I will also approximate this distribution using the method of Monte Carlo. The number of simulations in Dickey and in this study is 50000. When critical values are obtained I will study the power of the test statistics and its robustness across sample size and differenst magnitudes of autocorrelation. The power of a test relates to the chance of a type two error; in this context it is the tendency to correctly identify the absence of a unit root.   "
   ]
  },
  {
   "cell_type": "code",
   "execution_count": 1,
   "metadata": {},
   "outputs": [],
   "source": [
    "import pandas as pd\n",
    "import numpy as np\n",
    "import matplotlib.pyplot as plt\n",
    "from math import sqrt\n",
    "import time"
   ]
  },
  {
   "cell_type": "code",
   "execution_count": 2,
   "metadata": {},
   "outputs": [],
   "source": [
    "# set up simulations in order to derive critical values\n",
    "n = [25, 50, 100, 500, 5000] # sample sizes\n",
    "N = 50000 # number of simulations\n",
    "t0 = 0\n",
    "t_stats = np.zeros((len(n),N))\n",
    "df_cv = pd.DataFrame(0,index = n, columns = ['0.01', '0.025','0.05','0.10','0.90','0.95', '0.975','0.99'])"
   ]
  },
  {
   "cell_type": "code",
   "execution_count": 3,
   "metadata": {},
   "outputs": [],
   "source": [
    "def AR(phi , n ,start = 0 ,mu=0 ,sigma=1):\n",
    "    \"\"\"\n",
    "    Generate an AR(1) with coefficient phi of length n starting at start. Innovations have mean\n",
    "    mu and standard deviation sigma. Default setting is standard gaussian\n",
    "    innovation at origin. \n",
    "    \"\"\"\n",
    "    X = np.array([start])\n",
    "    for i in range(n-1):\n",
    "        innovation = np.random.normal(mu,sigma)\n",
    "        X = np.append(X, (p*X[i]+innovation))\n",
    "    \n",
    "    return X"
   ]
  },
  {
   "cell_type": "code",
   "execution_count": null,
   "metadata": {},
   "outputs": [],
   "source": [
    "# record N test statistics\n",
    "start = time.time()\n",
    "for n_loop,size in enumerate(n):\n",
    "        for sim in range(N):\n",
    "            y = AR(phi=1, n=size, start = t0, mu = 0, sigma = 1)\n",
    "            dy = np.diff(y, n=1)\n",
    "            ylagged = y[:-1]\n",
    "            y=y[1:]\n",
    "            \n",
    "            beta = (ylagged.T@ylagged)**-1*(ylagged.T@y)\n",
    "            res = y - beta*ylagged\n",
    "            se = sqrt((res.T@res/(size-2))/(ylagged.T@ylagged))\n",
    "            t = (beta-1)/se\n",
    "            t_stats[n_loop,sim] = t\n",
    "            \n",
    "elapsed_time = (time.time() - start)"
   ]
  },
  {
   "cell_type": "code",
   "execution_count": null,
   "metadata": {},
   "outputs": [],
   "source": [
    "elapsed_time\n",
    "t_stats = t_stats.T\n",
    "np.save(file = '/Users/ezravanderstelt/Desktop/python/ectri/DF/DFdis.npy', arr = t_stats)\n",
    "# t_stats = np.load('/Users/ezravanderstelt/Desktop/python/ectri/DF/DFdis.npy')"
   ]
  },
  {
   "cell_type": "code",
   "execution_count": 5,
   "metadata": {},
   "outputs": [
    {
     "data": {
      "image/png": "[encoded data removed]",
      "text/plain": [
       "<Figure size 1224x360 with 1 Axes>"
      ]
     },
     "metadata": {
      "needs_background": "light"
     },
     "output_type": "display_data"
    }
   ],
   "source": [
    "plt.figure(figsize=(17,5))\n",
    "plt.hist(t_stats[:,4], bins=100)\n",
    "plt.title('Histogram t-stats')\n",
    "plt.savefig(fname='/Users/ezravanderstelt/Desktop/python/ectri/DF/DFhist.png')"
   ]
  },
  {
   "cell_type": "code",
   "execution_count": 6,
   "metadata": {},
   "outputs": [
    {
     "name": "stdout",
     "output_type": "stream",
     "text": [
      "          0.01     0.025      0.05      0.10      0.90      0.95     0.975  \\\n",
      "25   -2.644563 -2.253873 -1.930973 -1.586596  0.938675  1.353740  1.704179   \n",
      "50   -2.619271 -2.265221 -1.962579 -1.624238  0.892924  1.304951  1.657107   \n",
      "100  -2.580644 -2.247675 -1.932284 -1.608289  0.888581  1.298073  1.639735   \n",
      "500  -2.569170 -2.221221 -1.938655 -1.620569  0.893367  1.292271  1.636211   \n",
      "5000 -2.568938 -2.242451 -1.951394 -1.621986  0.881086  1.271227  1.612225   \n",
      "\n",
      "          0.99  \n",
      "25    2.149836  \n",
      "50    2.050877  \n",
      "100   2.027495  \n",
      "500   2.048720  \n",
      "5000  2.012007  \n"
     ]
    }
   ],
   "source": [
    "# construct table that stores critical values test statistic\n",
    "percentiles = [1, 2.5, 5, 10, 90, 95, 97.5, 99]\n",
    "\n",
    "for count,size in enumerate(n):\n",
    "    for col,per in enumerate(percentiles):\n",
    "        cv = np.percentile(t_stats[:,count],per)\n",
    "        df_cv.iloc[count,col] = cv    \n",
    "\n",
    "print(df_cv)\n",
    "df_cv.to_csv(\"/Users/ezravanderstelt/Desktop/python/ectri/DF/DFcv.csv\")"
   ]
  },
  {
   "cell_type": "code",
   "execution_count": 7,
   "metadata": {},
   "outputs": [],
   "source": [
    "# test power\n",
    "N = 4000 # simulations\n",
    "phi = [0.8,0.9,0.95,0.99,1,1.02,1.05]\n",
    "results_twosided = pd.DataFrame(0,index = n, columns = ['0.8', '0.9','0.95',\n",
    "                                               '0.99','1','1.02', '1.05'])\n",
    "    \n",
    "results_tdis = pd.DataFrame(0,index = n, columns = ['0.8', '0.9','0.95',\n",
    "                                               '0.99','1','1.02', '1.05'])\n",
    "t_stats_powertest = np.zeros((len(n),N,len(phi)))"
   ]
  },
  {
   "cell_type": "code",
   "execution_count": null,
   "metadata": {},
   "outputs": [],
   "source": [
    "# run new experiments, tau hats of random walks\n",
    "start = time.time()\n",
    "for n_loop,size in enumerate(n):\n",
    "    for phi_loop,p in enumerate(phi):\n",
    "        for sim in range(N):\n",
    "            y = AR(phi=p, n=size, start = t0, mu = 0, sigma = 1)\n",
    "            dy = np.diff(y, n=1)\n",
    "            ylagged = y[:-1]\n",
    "            y=y[1:]\n",
    "            \n",
    "            beta = (ylagged.T@ylagged)**-1*(ylagged.T@y)\n",
    "            res = y - beta*ylagged\n",
    "            se = sqrt((res.T@res/(size-2))/(ylagged.T@ylagged))\n",
    "            t = (beta-1)/se\n",
    "            t_stats_powertest[n_loop,sim,phi_loop] = t\n",
    "\n",
    "elapsed_time = (time.time() - start)\n",
    "np.save(file = '/Users/ezravanderstelt/Desktop/python/ectri/DF/powerstats.npy', arr = t_stats_powertest)\n",
    "# t_stats_powertest = np.load('/Users/ezravanderstelt/Desktop/python/ectri/DF/powerstats.npy')"
   ]
  },
  {
   "cell_type": "code",
   "execution_count": 9,
   "metadata": {},
   "outputs": [],
   "source": [
    "# determine power based on two-sided 5% significance test, contrast with outcome if student-t distribution was assumed\n",
    "for count,size in enumerate(n):\n",
    "    for col,p in enumerate(phi):\n",
    "        critl = df_cv.iloc[count,1] # 0.025\n",
    "        crith = df_cv.iloc[count,-2] # 0.975\n",
    "        filt = np.logical_or(t_stats_powertest[count,:,col]<critl,\n",
    "                             t_stats_powertest[count,:,col]>crith)\n",
    "        reject = round(np.sum(filt)/t_stats_powertest.shape[1],3)\n",
    "        results_twosided.iloc[count,col] = reject    \n",
    "        \n",
    "t_cv = pd.DataFrame(np.array([[-2.06, 2.06],[-2.01, 2.01],[-1.984,1.984],[-1.96,1.96],[-1.96,1.96]]),\n",
    "                    index = n, columns = ['0.025','0.975']) # cv different n t-dist\n",
    "\n",
    "for count,size in enumerate(n):\n",
    "    for col,p in enumerate(phi):\n",
    "        critl = t_cv.iloc[count,0]\n",
    "        crith = t_cv.iloc[count,1]\n",
    "        filt = np.logical_or(t_stats_powertest[count,:,col]<critl,\n",
    "                             t_stats_powertest[count,:,col]>crith)\n",
    "        reject = round(np.sum(filt)/t_stats_powertest.shape[1],3)\n",
    "        results_tdis.iloc[count,col] = reject    \n",
    "        \n",
    "results_twosided.to_csv(\"/Users/ezravanderstelt/Desktop/python/ectri/DF/powerDF2-test.csv\")\n",
    "results_tdis.to_csv(\"/Users/ezravanderstelt/Desktop/python/ectri/DF/power-ttest.csv\")"
   ]
  },
  {
   "cell_type": "code",
   "execution_count": 10,
   "metadata": {},
   "outputs": [
    {
     "data": {
      "text/html": [
       "<div>\n",
       "<style scoped>\n",
       "    .dataframe tbody tr th:only-of-type {\n",
       "        vertical-align: middle;\n",
       "    }\n",
       "\n",
       "    .dataframe tbody tr th {\n",
       "        vertical-align: top;\n",
       "    }\n",
       "\n",
       "    .dataframe thead th {\n",
       "        text-align: right;\n",
       "    }\n",
       "</style>\n",
       "<table border=\"1\" class=\"dataframe\">\n",
       "  <thead>\n",
       "    <tr style=\"text-align: right;\">\n",
       "      <th></th>\n",
       "      <th>0.8</th>\n",
       "      <th>0.9</th>\n",
       "      <th>0.95</th>\n",
       "      <th>0.99</th>\n",
       "      <th>1</th>\n",
       "      <th>1.02</th>\n",
       "      <th>1.05</th>\n",
       "    </tr>\n",
       "  </thead>\n",
       "  <tbody>\n",
       "    <tr>\n",
       "      <th>25</th>\n",
       "      <td>0.193</td>\n",
       "      <td>0.074</td>\n",
       "      <td>0.041</td>\n",
       "      <td>0.042</td>\n",
       "      <td>0.054</td>\n",
       "      <td>0.100</td>\n",
       "      <td>0.267</td>\n",
       "    </tr>\n",
       "    <tr>\n",
       "      <th>50</th>\n",
       "      <td>0.564</td>\n",
       "      <td>0.175</td>\n",
       "      <td>0.072</td>\n",
       "      <td>0.034</td>\n",
       "      <td>0.045</td>\n",
       "      <td>0.217</td>\n",
       "      <td>0.698</td>\n",
       "    </tr>\n",
       "    <tr>\n",
       "      <th>100</th>\n",
       "      <td>0.986</td>\n",
       "      <td>0.556</td>\n",
       "      <td>0.178</td>\n",
       "      <td>0.038</td>\n",
       "      <td>0.050</td>\n",
       "      <td>0.557</td>\n",
       "      <td>0.964</td>\n",
       "    </tr>\n",
       "    <tr>\n",
       "      <th>500</th>\n",
       "      <td>1.000</td>\n",
       "      <td>1.000</td>\n",
       "      <td>0.999</td>\n",
       "      <td>0.185</td>\n",
       "      <td>0.048</td>\n",
       "      <td>1.000</td>\n",
       "      <td>1.000</td>\n",
       "    </tr>\n",
       "    <tr>\n",
       "      <th>5000</th>\n",
       "      <td>1.000</td>\n",
       "      <td>1.000</td>\n",
       "      <td>1.000</td>\n",
       "      <td>1.000</td>\n",
       "      <td>0.055</td>\n",
       "      <td>1.000</td>\n",
       "      <td>1.000</td>\n",
       "    </tr>\n",
       "  </tbody>\n",
       "</table>\n",
       "</div>"
      ],
      "text/plain": [
       "        0.8    0.9   0.95   0.99      1   1.02   1.05\n",
       "25    0.193  0.074  0.041  0.042  0.054  0.100  0.267\n",
       "50    0.564  0.175  0.072  0.034  0.045  0.217  0.698\n",
       "100   0.986  0.556  0.178  0.038  0.050  0.557  0.964\n",
       "500   1.000  1.000  0.999  0.185  0.048  1.000  1.000\n",
       "5000  1.000  1.000  1.000  1.000  0.055  1.000  1.000"
      ]
     },
     "execution_count": 10,
     "metadata": {},
     "output_type": "execute_result"
    }
   ],
   "source": [
    "results_twosided"
   ]
  },
  {
   "cell_type": "code",
   "execution_count": 11,
   "metadata": {},
   "outputs": [
    {
     "data": {
      "text/html": [
       "<div>\n",
       "<style scoped>\n",
       "    .dataframe tbody tr th:only-of-type {\n",
       "        vertical-align: middle;\n",
       "    }\n",
       "\n",
       "    .dataframe tbody tr th {\n",
       "        vertical-align: top;\n",
       "    }\n",
       "\n",
       "    .dataframe thead th {\n",
       "        text-align: right;\n",
       "    }\n",
       "</style>\n",
       "<table border=\"1\" class=\"dataframe\">\n",
       "  <thead>\n",
       "    <tr style=\"text-align: right;\">\n",
       "      <th></th>\n",
       "      <th>0.8</th>\n",
       "      <th>0.9</th>\n",
       "      <th>0.95</th>\n",
       "      <th>0.99</th>\n",
       "      <th>1</th>\n",
       "      <th>1.02</th>\n",
       "      <th>1.05</th>\n",
       "    </tr>\n",
       "  </thead>\n",
       "  <tbody>\n",
       "    <tr>\n",
       "      <th>25</th>\n",
       "      <td>0.268</td>\n",
       "      <td>0.110</td>\n",
       "      <td>0.060</td>\n",
       "      <td>0.054</td>\n",
       "      <td>0.052</td>\n",
       "      <td>0.081</td>\n",
       "      <td>0.208</td>\n",
       "    </tr>\n",
       "    <tr>\n",
       "      <th>50</th>\n",
       "      <td>0.736</td>\n",
       "      <td>0.282</td>\n",
       "      <td>0.129</td>\n",
       "      <td>0.056</td>\n",
       "      <td>0.053</td>\n",
       "      <td>0.170</td>\n",
       "      <td>0.668</td>\n",
       "    </tr>\n",
       "    <tr>\n",
       "      <th>100</th>\n",
       "      <td>0.998</td>\n",
       "      <td>0.743</td>\n",
       "      <td>0.300</td>\n",
       "      <td>0.071</td>\n",
       "      <td>0.059</td>\n",
       "      <td>0.516</td>\n",
       "      <td>0.960</td>\n",
       "    </tr>\n",
       "    <tr>\n",
       "      <th>500</th>\n",
       "      <td>1.000</td>\n",
       "      <td>1.000</td>\n",
       "      <td>1.000</td>\n",
       "      <td>0.308</td>\n",
       "      <td>0.060</td>\n",
       "      <td>1.000</td>\n",
       "      <td>1.000</td>\n",
       "    </tr>\n",
       "    <tr>\n",
       "      <th>5000</th>\n",
       "      <td>1.000</td>\n",
       "      <td>1.000</td>\n",
       "      <td>1.000</td>\n",
       "      <td>1.000</td>\n",
       "      <td>0.067</td>\n",
       "      <td>1.000</td>\n",
       "      <td>1.000</td>\n",
       "    </tr>\n",
       "  </tbody>\n",
       "</table>\n",
       "</div>"
      ],
      "text/plain": [
       "        0.8    0.9   0.95   0.99      1   1.02   1.05\n",
       "25    0.268  0.110  0.060  0.054  0.052  0.081  0.208\n",
       "50    0.736  0.282  0.129  0.056  0.053  0.170  0.668\n",
       "100   0.998  0.743  0.300  0.071  0.059  0.516  0.960\n",
       "500   1.000  1.000  1.000  0.308  0.060  1.000  1.000\n",
       "5000  1.000  1.000  1.000  1.000  0.067  1.000  1.000"
      ]
     },
     "execution_count": 11,
     "metadata": {},
     "output_type": "execute_result"
    }
   ],
   "source": [
    "results_tdis"
   ]
  },
  {
   "cell_type": "markdown",
   "metadata": {},
   "source": [
    "## Results\n",
    "\n",
    "The obtained percentiles for the $\\tau$ statistic are roughly similar to those in Dickey (1976) (table5.3), almost all values are within a distance of $0.02$. The biggest differences seem to be for the extreme percentiles 0.01 and 0.99.\n",
    "\n",
    "The power test results are also very similar to those in Dickey/Fuller (1979). Small samples suffer from low power. But the test also seems to have trouble filtering almost unit root processes from unit root processes. The almost unit root and small sample property of a series are complementary in conceiling their 'true' behaviour. Lastly, I examined what would happen were I to proceed as if the test statistic is student-t distributed. It seems to have higher power than the DF test in detecting non-stationarity. However, the test is also biased, as n grows the rejection rate increases past $0.05$. The power of correctly identifying explosive processes rather than unit root processes is lower. \n",
    "\n",
    "## Sources:\n",
    "*  Dickey, David A. (1976), \"Estimation and Hypothesis Testing in Nonstationary Time Series,\" Ph.D. dissertation, Iowa State University.\n",
    "* Dickey DA, Fuller WA. 1979. Distribution of the estimators for autoregressive time series with a unit root. Journal of the American Statistical Association 74: 427–431."
   ]
  }
 ],
 "metadata": {
  "kernelspec": {
   "display_name": "Python 3",
   "language": "python",
   "name": "python3"
  },
  "language_info": {
   "codemirror_mode": {
    "name": "ipython",
    "version": 3
   },
   "file_extension": ".py",
   "mimetype": "text/x-python",
   "name": "python",
   "nbconvert_exporter": "python",
   "pygments_lexer": "ipython3",
   "version": "3.7.4"
  }
 },
 "nbformat": 4,
 "nbformat_minor": 4
}
